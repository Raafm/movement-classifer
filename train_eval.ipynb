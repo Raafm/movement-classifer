{
  "nbformat": 4,
  "nbformat_minor": 0,
  "metadata": {
    "colab": {
      "provenance": []
    },
    "kernelspec": {
      "name": "python3",
      "display_name": "Python 3"
    },
    "language_info": {
      "name": "python"
    }
  },
  "cells": [
    {
      "cell_type": "markdown",
      "source": [
        "# Downloads e Imports"
      ],
      "metadata": {
        "id": "YlWB1RX_YnG5"
      }
    },
    {
      "cell_type": "code",
      "execution_count": 1,
      "metadata": {
        "id": "XB5rVjZfEbI1"
      },
      "outputs": [],
      "source": [
        "import os\n",
        "\n",
        "import numpy as np\n",
        "import matplotlib.pyplot as plt\n",
        "import seaborn as sns\n",
        "import pandas as pd\n",
        "\n",
        "from sklearn.ensemble import RandomForestClassifier\n",
        "from sklearn.model_selection import StratifiedKFold, GridSearchCV, train_test_split, cross_val_score\n",
        "from sklearn import tree\n",
        "from sklearn.metrics import classification_report, confusion_matrix\n",
        "\n",
        "from scipy.stats import kruskal\n",
        "\n",
        "from xgboost import XGBRegressor\n",
        "import multiprocessing\n"
      ]
    },
    {
      "cell_type": "markdown",
      "source": [
        "#### Função para mostrar resultados do modelo"
      ],
      "metadata": {
        "id": "jaGnSoNe_oKY"
      }
    },
    {
      "cell_type": "code",
      "source": [
        "def getResults(x_test, y_test, model,round_results = False, range_results = None):\n",
        "    predicted = model.predict(x_test)\n",
        "    \n",
        "    if range_results:\n",
        "        lowest_label,highest_label = range_results\n",
        "        if lowest_label:\n",
        "            predicted[predicted < lowest_label] = lowest_label\n",
        "        if highest_label:\n",
        "            predicted[predicted > highest_label] = highest_label\n",
        "\n",
        "    if round_results: predicted = np.round(predicted)\n",
        "\n",
        "\n",
        "    cm = confusion_matrix(y_test, predicted)\n",
        "    sns.heatmap(cm, center=True)\n",
        "    plt.show()\n",
        "    report = classification_report(y_test, predicted)\n",
        "    print(report)\n",
        "     "
      ],
      "metadata": {
        "id": "5f1ErawnV_H5"
      },
      "execution_count": 2,
      "outputs": []
    },
    {
      "cell_type": "markdown",
      "source": [
        "## Download dataset"
      ],
      "metadata": {
        "id": "d-IyRiQy_tLS"
      }
    },
    {
      "cell_type": "code",
      "source": [
        "X = np.load(\"/content/Fourier_X.npy\")\n",
        "y = np.load(\"/content/y_aprox.npy\")\n",
        "\n",
        "print(np.unique(y,return_counts=True))"
      ],
      "metadata": {
        "colab": {
          "base_uri": "https://localhost:8080/"
        },
        "id": "KcqLtMrgSaGD",
        "outputId": "7576ca75-98e4-401d-8a13-2544a065d0e2"
      },
      "execution_count": 3,
      "outputs": [
        {
          "output_type": "stream",
          "name": "stdout",
          "text": [
            "(array(['Downstairs', 'Jogging', 'Sitting', 'Standing', 'Upstairs',\n",
            "       'Walking'], dtype='<U10'), array([1629, 4922, 1232,  988, 2108, 8637]))\n"
          ]
        }
      ]
    },
    {
      "cell_type": "markdown",
      "source": [
        "Como a diferenca entre as quantidades de samples de cada classe é inferior a 10 vezes, então não rebalancearei, mas isso pode ser importante dependendo do classificador e seria conveniente balancear"
      ],
      "metadata": {
        "id": "i80YvxZHPC9H"
      }
    },
    {
      "cell_type": "code",
      "source": [
        "counter = 0\n",
        "for x in X:\n",
        "    if np.isnan(x).sum(): counter += 1\n",
        "print(\"n entradas com nan:\",counter)"
      ],
      "metadata": {
        "colab": {
          "base_uri": "https://localhost:8080/"
        },
        "id": "n34e_j1cScoX",
        "outputId": "731b27ae-8b02-4eae-fd70-de5378b0ae09"
      },
      "execution_count": 4,
      "outputs": [
        {
          "output_type": "stream",
          "name": "stdout",
          "text": [
            "n entradas com nan: 124\n"
          ]
        }
      ]
    },
    {
      "cell_type": "code",
      "source": [
        "indices = []\n",
        "for index,x in enumerate(X):\n",
        "    if np.isnan(x).sum() == 0:\n",
        "        indices.append(index)\n",
        "\n",
        "X = X[indices]\n",
        "y = y[indices]"
      ],
      "metadata": {
        "id": "cE3-Wzu4S3W2"
      },
      "execution_count": 5,
      "outputs": []
    },
    {
      "cell_type": "code",
      "source": [
        "counter = 0\n",
        "for x in X:\n",
        "    if np.isnan(x).sum(): counter += 1\n",
        "print(\"n entradas com nan:\",counter)"
      ],
      "metadata": {
        "colab": {
          "base_uri": "https://localhost:8080/"
        },
        "id": "JGs3oNkuT0tH",
        "outputId": "f48669a4-442e-474e-b316-d8180e785720"
      },
      "execution_count": 6,
      "outputs": [
        {
          "output_type": "stream",
          "name": "stdout",
          "text": [
            "n entradas com nan: 0\n"
          ]
        }
      ]
    },
    {
      "cell_type": "code",
      "source": [
        "X = (X - X.min())/(X.max() - X.min())"
      ],
      "metadata": {
        "id": "kGrIUBxpLBy2"
      },
      "execution_count": 7,
      "outputs": []
    },
    {
      "cell_type": "markdown",
      "source": [
        "# random seed setting"
      ],
      "metadata": {
        "id": "IPJj-GIhYqqn"
      }
    },
    {
      "cell_type": "code",
      "source": [
        "RANDSEED = 1234\n",
        "\n",
        "os.environ['PYTHONHASHSEED']=str(RANDSEED)\n",
        "np.random.seed(RANDSEED)"
      ],
      "metadata": {
        "id": "lsFGGLzzYMQX"
      },
      "execution_count": 8,
      "outputs": []
    },
    {
      "cell_type": "markdown",
      "source": [
        "#train test split"
      ],
      "metadata": {
        "id": "aR1TQVkR98-n"
      }
    },
    {
      "cell_type": "code",
      "source": [
        "X_train, X_test, y_train, y_test = train_test_split(X, y, test_size=0.2, random_state=RANDSEED)\n",
        "X_train, X_val, y_train, y_val   = train_test_split(X_train, y_train, test_size=0.25, random_state=RANDSEED)"
      ],
      "metadata": {
        "id": "trqi1wPNLnT8"
      },
      "execution_count": 9,
      "outputs": []
    },
    {
      "cell_type": "markdown",
      "source": [
        "# training"
      ],
      "metadata": {
        "id": "hUMWKIQCcsA5"
      }
    },
    {
      "cell_type": "code",
      "source": [
        "np.isnan(np.array([np.NaN,np.NaN,1,2,3])).sum()"
      ],
      "metadata": {
        "colab": {
          "base_uri": "https://localhost:8080/"
        },
        "id": "QqnS_qUNSP2z",
        "outputId": "d2754290-d1c5-40f8-dcad-51cf8edac705"
      },
      "execution_count": 10,
      "outputs": [
        {
          "output_type": "execute_result",
          "data": {
            "text/plain": [
              "2"
            ]
          },
          "metadata": {},
          "execution_count": 10
        }
      ]
    },
    {
      "cell_type": "markdown",
      "source": [
        "### Random forest"
      ],
      "metadata": {
        "id": "MAGXFdwLIB31"
      }
    },
    {
      "cell_type": "code",
      "source": [
        "# fazendo gridseearch para procurar melhor modelo\n",
        "rfc = RandomForestClassifier(n_jobs=multiprocessing.cpu_count() // 2)\n",
        "\n",
        "search_space ={ 'max_depth': [2, 4, 6, 10],\n",
        "        'n_estimators': [10, 25, 50],\n",
        "        'criterion'          : ['gini', 'entropy'],\n",
        "        'min_samples_split'  : [5,7]\n",
        "}\n",
        "clf_rfc = GridSearchCV(rfc, search_space, verbose=1,\n",
        "                    n_jobs=2)\n",
        "clf_rfc.fit(X_train, y_train)\n",
        "print(clf_rfc.best_score_)\n",
        "print(clf_rfc.best_params_)"
      ],
      "metadata": {
        "id": "5ei8qxIYYHmx",
        "colab": {
          "base_uri": "https://localhost:8080/"
        },
        "outputId": "d18d27a4-9ee5-4fbb-c966-594f2232e1c1"
      },
      "execution_count": 11,
      "outputs": [
        {
          "output_type": "stream",
          "name": "stdout",
          "text": [
            "Fitting 5 folds for each of 48 candidates, totalling 240 fits\n",
            "0.8081484653776503\n",
            "{'criterion': 'entropy', 'max_depth': 10, 'min_samples_split': 5, 'n_estimators': 50}\n"
          ]
        }
      ]
    },
    {
      "cell_type": "code",
      "source": [
        "rfc = RandomForestClassifier(criterion= 'entropy', max_depth = 10, min_samples_split=  5, n_estimators = 50)\n",
        "rfc.fit(X_train,y_train)\n",
        "print(rfc.score(X_val,y_val))"
      ],
      "metadata": {
        "colab": {
          "base_uri": "https://localhost:8080/"
        },
        "id": "EGx5ykWOU5IW",
        "outputId": "6864b36c-ec8c-4079-e75f-3deb378ee959"
      },
      "execution_count": 12,
      "outputs": [
        {
          "output_type": "stream",
          "name": "stdout",
          "text": [
            "0.8087135859757669\n"
          ]
        }
      ]
    },
    {
      "cell_type": "code",
      "source": [
        "getResults(X_val,y_val,rfc)"
      ],
      "metadata": {
        "colab": {
          "base_uri": "https://localhost:8080/",
          "height": 491
        },
        "id": "NrqYB61RWSxt",
        "outputId": "f3a4adf5-8692-4ff1-bf31-7aa6c6ab1bf0"
      },
      "execution_count": 13,
      "outputs": [
        {
          "output_type": "display_data",
          "data": {
            "text/plain": [
              "<Figure size 432x288 with 2 Axes>"
            ],
            "image/png": "[encoded data removed]"
          },
          "metadata": {
            "needs_background": "light"
          }
        },
        {
          "output_type": "stream",
          "name": "stdout",
          "text": [
            "              precision    recall  f1-score   support\n",
            "\n",
            "  Downstairs       0.62      0.54      0.58       327\n",
            "     Jogging       0.94      0.87      0.91       976\n",
            "     Sitting       0.67      0.43      0.53       240\n",
            "    Standing       0.63      0.51      0.57       191\n",
            "    Upstairs       0.61      0.57      0.59       398\n",
            "     Walking       0.84      0.96      0.90      1747\n",
            "\n",
            "    accuracy                           0.81      3879\n",
            "   macro avg       0.72      0.65      0.68      3879\n",
            "weighted avg       0.80      0.81      0.80      3879\n",
            "\n"
          ]
        }
      ]
    },
    {
      "cell_type": "markdown",
      "source": [
        "### XGboost"
      ],
      "metadata": {
        "id": "vv0wjzGvIGya"
      }
    },
    {
      "cell_type": "code",
      "source": [
        "label_converter = {\n",
        "'Downstairs' : 0, \n",
        " 'Jogging': 1, \n",
        " 'Sitting': 2, \n",
        " 'Standing': 3,\n",
        " 'Upstairs': 4,\n",
        "'Walking': 5 }\n",
        "\n",
        "label_deconverter = {\n",
        " 0  :'Downstairs'  , \n",
        " 1  : 'Jogging'    , \n",
        " 2  : 'Sitting'    ,  \n",
        " 3  : 'Standing'   ,\n",
        " 4  : 'Upstairs'   ,\n",
        " 5  :'Walking'      }\n",
        "\n",
        "y_train_numerical =np.array( [label_converter[label_name] for label_name in y_train])\n",
        "y_val_numerical = np.array( [label_converter[label_name] for label_name in y_val])\n",
        "y_test_numerical = np.array( [label_converter[label_name] for label_name in y_test])\n",
        "\n",
        "print(np.unique(y_train_numerical, return_counts = True))\n",
        "print(np.unique(y_val_numerical, return_counts = True))\n",
        "print(np.unique(y_test_numerical, return_counts = True))"
      ],
      "metadata": {
        "colab": {
          "base_uri": "https://localhost:8080/"
        },
        "id": "CDxVOhKiXhr_",
        "outputId": "08672612-02da-4a88-c67d-19cfb5e20c72"
      },
      "execution_count": 14,
      "outputs": [
        {
          "output_type": "stream",
          "name": "stdout",
          "text": [
            "(array([0, 1, 2, 3, 4, 5]), array([1003, 2908,  735,  602, 1271, 5115]))\n",
            "(array([0, 1, 2, 3, 4, 5]), array([ 327,  976,  240,  191,  398, 1747]))\n",
            "(array([0, 1, 2, 3, 4, 5]), array([ 299,  976,  257,  195,  439, 1713]))\n"
          ]
        }
      ]
    },
    {
      "cell_type": "code",
      "source": [
        "print(y_train[:10])\n",
        "print(y_train_numerical[:10])"
      ],
      "metadata": {
        "colab": {
          "base_uri": "https://localhost:8080/"
        },
        "id": "W4XagmumZzMd",
        "outputId": "0be07039-e8de-45e4-c646-9fbe46eeab4d"
      },
      "execution_count": 15,
      "outputs": [
        {
          "output_type": "stream",
          "name": "stdout",
          "text": [
            "['Downstairs' 'Jogging' 'Walking' 'Downstairs' 'Walking' 'Walking'\n",
            " 'Standing' 'Walking' 'Walking' 'Downstairs']\n",
            "[0 1 5 0 5 5 3 5 5 0]\n"
          ]
        }
      ]
    },
    {
      "cell_type": "code",
      "source": [
        "clf_xgb = GridSearchCV(XGBRegressor(), {'max_depth': [2, 4, 6,10],\n",
        "                                'n_estimators': [10,25, 50]}, verbose=1,\n",
        "                    n_jobs=2)\n",
        "clf_xgb.fit(X_train, y_train_numerical)\n",
        "print(clf_xgb.best_score_)\n",
        "print(clf_xgb.best_params_)\n"
      ],
      "metadata": {
        "colab": {
          "base_uri": "https://localhost:8080/"
        },
        "id": "Ql-_ARE9QmIl",
        "outputId": "22adef19-cd84-40fe-af73-9386a2ebb2e1"
      },
      "execution_count": 16,
      "outputs": [
        {
          "output_type": "stream",
          "name": "stdout",
          "text": [
            "Fitting 5 folds for each of 12 candidates, totalling 60 fits\n",
            "0.5931163427464048\n",
            "{'max_depth': 6, 'n_estimators': 25}\n"
          ]
        }
      ]
    },
    {
      "cell_type": "code",
      "source": [
        "# best xgb of the gridsearch\n",
        "xgb = XGBRegressor(max_depth = 6, n_estimators= 25)\n",
        "xgb.fit(X_train,y_train_numerical)\n",
        "\n",
        "predicted = xgb.predict(X_val)\n",
        "predicted = np.round(predicted)\n",
        "\n",
        "predicted[predicted > 5] = 5\n",
        "predicted[predicted< 0] = 0\n",
        "\n",
        "predicted = np.array( [label_deconverter[label_name] for label_name in predicted])\n",
        "\n",
        "\n",
        "cm = confusion_matrix(y_val, predicted)\n",
        "sns.heatmap(cm, center=True)\n",
        "plt.show()\n",
        "report = classification_report(y_val, predicted)\n",
        "print(report)\n",
        "    "
      ],
      "metadata": {
        "colab": {
          "base_uri": "https://localhost:8080/",
          "height": 525
        },
        "id": "8gJlDD2M-lLz",
        "outputId": "8a460ef1-c2be-420e-fc3e-fd47b58804cb"
      },
      "execution_count": 17,
      "outputs": [
        {
          "output_type": "stream",
          "name": "stdout",
          "text": [
            "(array([-1.,  0.,  1.,  2.,  3.,  4.,  5.,  6.], dtype=float32), array([   3,   87,  700,  529,  712,  712, 1135,    1]))\n",
            "(array([0., 1., 2., 3., 4., 5.], dtype=float32), array([  90,  700,  529,  712,  712, 1136]))\n"
          ]
        },
        {
          "output_type": "display_data",
          "data": {
            "text/plain": [
              "<Figure size 432x288 with 2 Axes>"
            ],
            "image/png": "[encoded data removed]"
          },
          "metadata": {
            "needs_background": "light"
          }
        },
        {
          "output_type": "stream",
          "name": "stdout",
          "text": [
            "              precision    recall  f1-score   support\n",
            "\n",
            "  Downstairs       0.14      0.04      0.06       327\n",
            "     Jogging       0.84      0.60      0.70       976\n",
            "     Sitting       0.18      0.39      0.24       240\n",
            "    Standing       0.16      0.59      0.25       191\n",
            "    Upstairs       0.16      0.28      0.20       398\n",
            "     Walking       0.95      0.62      0.75      1747\n",
            "\n",
            "    accuracy                           0.52      3879\n",
            "   macro avg       0.40      0.42      0.37      3879\n",
            "weighted avg       0.69      0.52      0.57      3879\n",
            "\n"
          ]
        }
      ]
    }
  ]
}