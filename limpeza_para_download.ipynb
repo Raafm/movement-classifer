{
 "cells": [
  {
   "attachments": {},
   "cell_type": "markdown",
   "metadata": {},
   "source": [
    "# imports"
   ]
  },
  {
   "cell_type": "code",
   "execution_count": 1,
   "metadata": {},
   "outputs": [],
   "source": [
    "import numpy as np\n",
    "import pandas as pd\n",
    "import matplotlib.pyplot as plt\n",
    "\n",
    "import os"
   ]
  },
  {
   "attachments": {},
   "cell_type": "markdown",
   "metadata": {},
   "source": [
    "# Checando se toda linha termina com ';'"
   ]
  },
  {
   "cell_type": "code",
   "execution_count": 2,
   "metadata": {},
   "outputs": [
    {
     "name": "stdout",
     "output_type": "stream",
     "text": [
      "134633 47\n",
      "13,Downstairs,3498732310000,5.13,10.42,4.671779;15,Jogging,328982249000,5.37,-3.36,7.3141265;\n",
      "\n",
      "197686 47\n",
      "27,Jogging,10814072309000,4.21,-0.65,-0.6537767;27,Jogging,0,0,0,0.0;\n",
      "\n",
      "273260 20\n",
      "18,Jogging,0,0,0,0.0;18,Jogging,0,0,0,0.0;\n",
      "\n",
      "343419 -1\n",
      "11,Walking,1867172313000,4.4,4.4,\n",
      "\n",
      "371931 48\n",
      "16,Downstairs,7160742320000,4.79,7.31,-4.0588636;5,Walking,1202262279000,-1.23,3.45,-0.38136974;\n",
      "\n",
      "711483 40\n",
      "30,Standing,1729732341000,-1.8,9.28,3.79;34,Walking,295812327000,0.8,18.96,13.57;\n",
      "\n"
     ]
    }
   ],
   "source": [
    "\n",
    "with open(\"D:\\Machine Learning\\desafio-valorian\\dataset\\coleta.txt\", \"r\") as csv_file:\n",
    "    \n",
    "    for line_number,line in enumerate(csv_file):\n",
    "        pos = line.find(';')\n",
    "        if  pos != len(line)-2:\n",
    "            print(line_number, pos)\n",
    "            print(line)\n",
    "            \n",
    "            "
   ]
  },
  {
   "attachments": {},
   "cell_type": "markdown",
   "metadata": {},
   "source": [
    "A linha 343419 (0 indexado) está faltando um valor, substituirei pela média quando transformar em dataframe, por hora colocarei o valor 1.23456789 para poder baixar o csv se problemas.\n",
    "\n",
    "Os outros serão tratados posteriormente"
   ]
  },
  {
   "cell_type": "code",
   "execution_count": 3,
   "metadata": {},
   "outputs": [
    {
     "name": "stdout",
     "output_type": "stream",
     "text": [
      "-1\n",
      "11,Walking,1867172313000,4.4,4.4,1.23456789;\n",
      "\n"
     ]
    }
   ],
   "source": [
    "\n",
    "with open(\"D:\\Machine Learning\\desafio-valorian\\dataset\\coleta.txt\", \"r\") as csv_file:\n",
    "    \n",
    "    for line_number,line in enumerate(csv_file):\n",
    "        if len(line) > 1:\n",
    "            \n",
    "            if  (pos:= line.find(';')) == -1:\n",
    "                print(pos)\n",
    "                print(line[:-1] + '1.23456789;'+ line[-1])\n",
    "            \n",
    "            "
   ]
  },
  {
   "attachments": {},
   "cell_type": "markdown",
   "metadata": {},
   "source": [
    "## Checando o numero de features no csv (que é um txt)"
   ]
  },
  {
   "cell_type": "code",
   "execution_count": 4,
   "metadata": {},
   "outputs": [
    {
     "name": "stdout",
     "output_type": "stream",
     "text": [
      "n° features:6, n° lines: 1086466\n",
      "n° features:11, n° lines: 5\n",
      "n° features:1, n° lines: 6\n",
      "n° features:7, n° lines: 11733\n"
     ]
    }
   ],
   "source": [
    "# verificar regularidade do numero de features (virgulas)\n",
    "\n",
    "# informa quais linhas existem com cada quantidade de features \n",
    "# sera um dict de lists, as keys serao o numero de features  \n",
    "# e os values serao as listas com os numeros das linhas\n",
    "lines_feats = dict()\n",
    "\n",
    "# linhas com mais de 6 features\n",
    "lines_problems = []\n",
    "\n",
    "with open(\"D:\\Machine Learning\\desafio-valorian\\dataset\\coleta.txt\", \"r\") as csv_file:\n",
    "    \n",
    "    for line_number,line in enumerate(csv_file):\n",
    "        line_divided = line.split(',')\n",
    "        n_feats = len(line_divided)\n",
    "        \n",
    "        # se ja ouver pelo menos uma linha com esta quantidade de features, \n",
    "        # adicione esta linha\n",
    "        if n_feats in lines_feats:\n",
    "            lines_feats[n_feats].append(line_number)\n",
    "        # se nao tivermos nenhuma linha com esta quantidade de features,\n",
    "        # registramos que encontramos uma linha assim\n",
    "        else:\n",
    "            lines_feats[n_feats] = [line_number]\n",
    "\n",
    "for k,v in lines_feats.items():\n",
    "    print(f\"n° features:{k}, n° lines: {len(v)}\")"
   ]
  },
  {
   "attachments": {},
   "cell_type": "markdown",
   "metadata": {},
   "source": [
    "### linhas com 7 features (6 vírgulas na verdade)"
   ]
  },
  {
   "cell_type": "code",
   "execution_count": 5,
   "metadata": {},
   "outputs": [],
   "source": [
    "with open(\"D:\\Machine Learning\\desafio-valorian\\dataset\\coleta.txt\", \"r\") as csv_file:\n",
    "    i = 0\n",
    "    lines_feats[7].sort()\n",
    "    for line_number,line in enumerate(csv_file):\n",
    "        \n",
    "        # ja vimos todos\n",
    "        if i == len(lines_feats[7]):\n",
    "            break\n",
    "        \n",
    "        if line_number == lines_feats[7][i]:\n",
    "            i += 1\n",
    "            # elimino a última virgula\n",
    "            line = line[:-3] + line[-1:]\n",
    "            n_feats = len(line.split(','))\n",
    "            if n_feats != 6:\n",
    "                print(line)"
   ]
  },
  {
   "attachments": {},
   "cell_type": "markdown",
   "metadata": {},
   "source": [
    "como nenhuma linha foi impressa, significa que todos os erros foram removidos retirando-se a ultima virgula, que fica exatamente antes  do ';'"
   ]
  },
  {
   "attachments": {},
   "cell_type": "markdown",
   "metadata": {},
   "source": [
    "### linhas com 11 features"
   ]
  },
  {
   "cell_type": "code",
   "execution_count": 6,
   "metadata": {},
   "outputs": [
    {
     "name": "stdout",
     "output_type": "stream",
     "text": [
      "13,Downstairs,3498732310000,5.13,10.42,4.671779;\n",
      "15,Jogging,328982249000,5.37,-3.36,7.3141265;\n",
      "\n",
      "27,Jogging,10814072309000,4.21,-0.65,-0.6537767;\n",
      "27,Jogging,0,0,0,0.0;\n",
      "\n",
      "18,Jogging,0,0,0,0.0;\n",
      "18,Jogging,0,0,0,0.0;\n",
      "\n",
      "16,Downstairs,7160742320000,4.79,7.31,-4.0588636;\n",
      "5,Walking,1202262279000,-1.23,3.45,-0.38136974;\n",
      "\n",
      "30,Standing,1729732341000,-1.8,9.28,3.79;\n",
      "34,Walking,295812327000,0.8,18.96,13.57;\n",
      "\n"
     ]
    }
   ],
   "source": [
    "\n",
    "with open(\"D:\\Machine Learning\\desafio-valorian\\dataset\\coleta.txt\", \"r\") as csv_file:\n",
    "    i = 0\n",
    "    lines_feats[11].sort()\n",
    "    for line_number,line in enumerate(csv_file):\n",
    "        \n",
    "        # ja vimos todos\n",
    "        if i == len(lines_feats[11]):\n",
    "            break\n",
    "        \n",
    "        if line_number == lines_feats[11][i]:\n",
    "            i += 1\n",
    "            print(line.replace(';',';\\n', 1))\n",
    "\n"
   ]
  },
  {
   "attachments": {},
   "cell_type": "markdown",
   "metadata": {},
   "source": [
    "Evidentemente, basta colocar '\\n' após o ';' ao meio (o primeiro ';' que aparecer)"
   ]
  },
  {
   "cell_type": "code",
   "execution_count": 7,
   "metadata": {},
   "outputs": [],
   "source": [
    "\n",
    "with open(\"D:\\Machine Learning\\desafio-valorian\\dataset\\coleta.txt\", \"r\") as csv_file:\n",
    "    i = 0\n",
    "    \n",
    "    for line_number,line in enumerate(csv_file):\n",
    "        \n",
    "        # ja vimos todos\n",
    "        if i == len(lines_feats[11]):\n",
    "            break\n",
    "        \n",
    "        if line_number == lines_feats[11][i]:\n",
    "            i += 1\n",
    "            \n",
    "\n"
   ]
  },
  {
   "attachments": {},
   "cell_type": "markdown",
   "metadata": {},
   "source": [
    "### linhas com 1 feature (0 vígulas)"
   ]
  },
  {
   "cell_type": "code",
   "execution_count": 8,
   "metadata": {},
   "outputs": [
    {
     "name": "stdout",
     "output_type": "stream",
     "text": [
      "\n",
      "\n",
      "\n",
      "\n",
      "\n",
      "\n",
      "\n",
      "\n",
      "\n",
      "\n",
      "\n",
      "\n"
     ]
    }
   ],
   "source": [
    "\n",
    "with open(\"D:\\Machine Learning\\desafio-valorian\\dataset\\coleta.txt\", \"r\") as csv_file:\n",
    "    i = 0\n",
    "    lines_feats[1].sort()\n",
    "    for line_number,line in enumerate(csv_file):\n",
    "        \n",
    "        # ja vimos todos\n",
    "        if i == len(lines_feats[1]):\n",
    "            break\n",
    "        \n",
    "        if line_number == lines_feats[1][i]:\n",
    "            i += 1\n",
    "            print(line)\n",
    "\n"
   ]
  },
  {
   "attachments": {},
   "cell_type": "markdown",
   "metadata": {},
   "source": [
    "são linhas vazias, basta apagá-las"
   ]
  },
  {
   "attachments": {},
   "cell_type": "markdown",
   "metadata": {},
   "source": [
    "# Fazendo as correções:"
   ]
  },
  {
   "cell_type": "code",
   "execution_count": 9,
   "metadata": {},
   "outputs": [],
   "source": [
    "with open(\"D:\\Machine Learning\\desafio-valorian\\dataset\\coleta.txt\", \"r\") as csv_file:\n",
    "    with open(\"D:\\Machine Learning\\desafio-valorian\\\\temp_file.txt\", \"w\") as temp_file:\n",
    "        \n",
    "        i7, i11, i1  = 0,0,0\n",
    "        for line_number,line in enumerate(csv_file):\n",
    "            \n",
    "            # ainda nao resolvemos todos os de 1 feature\n",
    "            if i1 < len(lines_feats[1]) and  line_number == lines_feats[1][i1]:\n",
    "                i1+=1\n",
    "                continue\n",
    "\n",
    "            # ainda nao resolvemos todos os de 7 features\n",
    "            elif i7 < len(lines_feats[7]) and line_number == lines_feats[7][i7]:\n",
    "                    i7 += 1\n",
    "                    # elimino a última virgula\n",
    "                    line = line[:-3] + line[-1:]\n",
    "                    temp_file.write(line)\n",
    "                    \n",
    "            elif i11 < len(lines_feats[11]) and line_number == lines_feats[11][i11]:\n",
    "                i11 += 1\n",
    "                temp_file.write(line.replace(';',';\\n', 1))\n",
    "            \n",
    "            elif (pos := line.find(';')) != len(line)-2:       \n",
    "                if pos == -1:     \n",
    "                    temp_file.write(line[:-1] + '1.23456789;'+ line[-1])\n",
    "                        \n",
    "            else:        \n",
    "                temp_file.write(line)\n",
    "                            "
   ]
  },
  {
   "cell_type": "code",
   "execution_count": 10,
   "metadata": {},
   "outputs": [
    {
     "name": "stdout",
     "output_type": "stream",
     "text": [
      "Total Number of lines in treated file: 1098209\n",
      "Total Number of lines in original file: 1098210\n"
     ]
    }
   ],
   "source": [
    "with open(\"D:\\Machine Learning\\desafio-valorian\\\\temp_file.txt\", \"r\") as temp_file:\n",
    "    lines = len(temp_file.readlines())\n",
    "    print('Total Number of lines in treated file:', lines)\n",
    "\n",
    "with open(\"D:\\Machine Learning\\desafio-valorian\\dataset\\coleta.txt\", \"r\") as csv_file:\n",
    "    lines = len(csv_file.readlines())\n",
    "    print('Total Number of lines in original file:', lines)"
   ]
  },
  {
   "cell_type": "code",
   "execution_count": 11,
   "metadata": {},
   "outputs": [],
   "source": [
    "with open(\"D:\\Machine Learning\\desafio-valorian\\\\temp_file.txt\", \"r\") as temp_file:\n",
    "    with open(\"D:\\Machine Learning\\desafio-valorian\\dataset\\coleta_tratada.txt\", \"w\") as tratada:\n",
    "        for line in temp_file:\n",
    "            tratada.write(line[:-2]+line[-1])\n",
    "\n",
    "os.remove(\"D:\\Machine Learning\\desafio-valorian\\\\temp_file.txt\")    "
   ]
  },
  {
   "attachments": {},
   "cell_type": "markdown",
   "metadata": {},
   "source": [
    "## Teste"
   ]
  },
  {
   "cell_type": "code",
   "execution_count": 12,
   "metadata": {},
   "outputs": [
    {
     "name": "stdout",
     "output_type": "stream",
     "text": [
      "n° features:6, n° lines: 1098209\n"
     ]
    }
   ],
   "source": [
    "# verificar regularidade do numero de features (virgulas)\n",
    "\n",
    "# informa quais linhas existem com cada quantidade de features \n",
    "# sera um dict de lists, as keys serao o numero de features  \n",
    "# e os values serao as listas com os numeros das linhas\n",
    "lines_feats = dict()\n",
    "\n",
    "with open(\"D:\\Machine Learning\\desafio-valorian\\dataset\\coleta_tratada.txt\", \"r\") as tratada:\n",
    "    \n",
    "    for line_number,line in enumerate(tratada):\n",
    "        line_divided = line.split(',')\n",
    "        n_feats = len(line_divided)\n",
    "        \n",
    "        # se ja ouver pelo menos uma linha com esta quantidade de features, \n",
    "        # adicione esta linha\n",
    "        if n_feats in lines_feats:\n",
    "            lines_feats[n_feats].append(line_number)\n",
    "        # se nao tivermos nenhuma linha com esta quantidade de features,\n",
    "        # registramos que encontramos uma linha assim\n",
    "        else:\n",
    "            lines_feats[n_feats] = [line_number]\n",
    "\n",
    "for k,v in lines_feats.items():\n",
    "    print(f\"n° features:{k}, n° lines: {len(v)}\")"
   ]
  },
  {
   "attachments": {},
   "cell_type": "markdown",
   "metadata": {},
   "source": [
    "Todas linhas estão com o mesmo número de features"
   ]
  },
  {
   "cell_type": "code",
   "execution_count": 15,
   "metadata": {},
   "outputs": [
    {
     "name": "stdout",
     "output_type": "stream",
     "text": [
      "<class 'pandas.core.frame.DataFrame'>\n",
      "RangeIndex: 1098209 entries, 0 to 1098208\n",
      "Data columns (total 6 columns):\n",
      " #   Column     Non-Null Count    Dtype  \n",
      "---  ------     --------------    -----  \n",
      " 0   Individuo  1098209 non-null  int64  \n",
      " 1   Atividade  1098209 non-null  object \n",
      " 2   Timestamp  1098209 non-null  int64  \n",
      " 3   ax         1098209 non-null  float64\n",
      " 4   ay         1098209 non-null  float64\n",
      " 5   az         1098158 non-null  float64\n",
      "dtypes: float64(3), int64(2), object(1)\n",
      "memory usage: 50.3+ MB\n"
     ]
    }
   ],
   "source": [
    "colunas = [\"Individuo\", \"Atividade\",\"Timestamp\",\"ax\",\"ay\",\"az\"]\n",
    "df = pd.read_csv(\"D:\\Machine Learning\\desafio-valorian\\dataset\\coleta_tratada.txt\",names = colunas)\n",
    "df.info()"
   ]
  },
  {
   "cell_type": "code",
   "execution_count": 16,
   "metadata": {},
   "outputs": [
    {
     "data": {
      "text/html": [
       "<div>\n",
       "<style scoped>\n",
       "    .dataframe tbody tr th:only-of-type {\n",
       "        vertical-align: middle;\n",
       "    }\n",
       "\n",
       "    .dataframe tbody tr th {\n",
       "        vertical-align: top;\n",
       "    }\n",
       "\n",
       "    .dataframe thead th {\n",
       "        text-align: right;\n",
       "    }\n",
       "</style>\n",
       "<table border=\"1\" class=\"dataframe\">\n",
       "  <thead>\n",
       "    <tr style=\"text-align: right;\">\n",
       "      <th></th>\n",
       "      <th>Individuo</th>\n",
       "      <th>Timestamp</th>\n",
       "      <th>ax</th>\n",
       "      <th>ay</th>\n",
       "      <th>az</th>\n",
       "    </tr>\n",
       "  </thead>\n",
       "  <tbody>\n",
       "    <tr>\n",
       "      <th>count</th>\n",
       "      <td>1.098209e+06</td>\n",
       "      <td>1.098209e+06</td>\n",
       "      <td>1.098209e+06</td>\n",
       "      <td>1.098209e+06</td>\n",
       "      <td>1.098158e+06</td>\n",
       "    </tr>\n",
       "    <tr>\n",
       "      <th>mean</th>\n",
       "      <td>1.886067e+01</td>\n",
       "      <td>3.340892e+13</td>\n",
       "      <td>6.628694e-01</td>\n",
       "      <td>7.255624e+00</td>\n",
       "      <td>4.105925e-01</td>\n",
       "    </tr>\n",
       "    <tr>\n",
       "      <th>std</th>\n",
       "      <td>1.021423e+01</td>\n",
       "      <td>4.944961e+13</td>\n",
       "      <td>6.849044e+00</td>\n",
       "      <td>6.746214e+00</td>\n",
       "      <td>4.753521e+00</td>\n",
       "    </tr>\n",
       "    <tr>\n",
       "      <th>min</th>\n",
       "      <td>1.000000e+00</td>\n",
       "      <td>0.000000e+00</td>\n",
       "      <td>-1.961000e+01</td>\n",
       "      <td>-1.961000e+01</td>\n",
       "      <td>-1.980000e+01</td>\n",
       "    </tr>\n",
       "    <tr>\n",
       "      <th>25%</th>\n",
       "      <td>1.000000e+01</td>\n",
       "      <td>2.019102e+12</td>\n",
       "      <td>-2.870000e+00</td>\n",
       "      <td>3.170000e+00</td>\n",
       "      <td>-2.220000e+00</td>\n",
       "    </tr>\n",
       "    <tr>\n",
       "      <th>50%</th>\n",
       "      <td>1.900000e+01</td>\n",
       "      <td>9.722652e+12</td>\n",
       "      <td>2.700000e-01</td>\n",
       "      <td>7.930000e+00</td>\n",
       "      <td>0.000000e+00</td>\n",
       "    </tr>\n",
       "    <tr>\n",
       "      <th>75%</th>\n",
       "      <td>2.800000e+01</td>\n",
       "      <td>4.996557e+13</td>\n",
       "      <td>4.440000e+00</td>\n",
       "      <td>1.156000e+01</td>\n",
       "      <td>2.720000e+00</td>\n",
       "    </tr>\n",
       "    <tr>\n",
       "      <th>max</th>\n",
       "      <td>3.600000e+01</td>\n",
       "      <td>2.093974e+14</td>\n",
       "      <td>1.995000e+01</td>\n",
       "      <td>2.004000e+01</td>\n",
       "      <td>1.961000e+01</td>\n",
       "    </tr>\n",
       "  </tbody>\n",
       "</table>\n",
       "</div>"
      ],
      "text/plain": [
       "          Individuo     Timestamp            ax            ay            az\n",
       "count  1.098209e+06  1.098209e+06  1.098209e+06  1.098209e+06  1.098158e+06\n",
       "mean   1.886067e+01  3.340892e+13  6.628694e-01  7.255624e+00  4.105925e-01\n",
       "std    1.021423e+01  4.944961e+13  6.849044e+00  6.746214e+00  4.753521e+00\n",
       "min    1.000000e+00  0.000000e+00 -1.961000e+01 -1.961000e+01 -1.980000e+01\n",
       "25%    1.000000e+01  2.019102e+12 -2.870000e+00  3.170000e+00 -2.220000e+00\n",
       "50%    1.900000e+01  9.722652e+12  2.700000e-01  7.930000e+00  0.000000e+00\n",
       "75%    2.800000e+01  4.996557e+13  4.440000e+00  1.156000e+01  2.720000e+00\n",
       "max    3.600000e+01  2.093974e+14  1.995000e+01  2.004000e+01  1.961000e+01"
      ]
     },
     "execution_count": 16,
     "metadata": {},
     "output_type": "execute_result"
    }
   ],
   "source": [
    "df.describe()"
   ]
  },
  {
   "attachments": {},
   "cell_type": "markdown",
   "metadata": {},
   "source": [
    "Como dito no começo, para evitar possíveis variações brucas das acelarações ao remover um dado, devemos corrigir o dado:\n",
    "11,Walking,1867172313000,4.4,4.4\n",
    "\n",
    "Colocaremos o dado faltante como a média do az imediatamente e antes e depois, tentando manter o tanto quanto possível a continuidade"
   ]
  },
  {
   "cell_type": "code",
   "execution_count": 80,
   "metadata": {},
   "outputs": [
    {
     "name": "stderr",
     "output_type": "stream",
     "text": [
      "C:\\Users\\rodri\\AppData\\Local\\Temp\\ipykernel_92088\\3153187853.py:1: UserWarning: Boolean Series key will be reindexed to match DataFrame index.\n",
      "  indice = df[df[\"Individuo\"] == 11][df[\"Atividade\"] == \"Walking\"][df[\"Timestamp\"] == 1867172313000].index[0]\n",
      "c:\\Users\\rodri\\anaconda3\\lib\\site-packages\\pandas\\core\\series.py:1056: SettingWithCopyWarning: \n",
      "A value is trying to be set on a copy of a slice from a DataFrame\n",
      "\n",
      "See the caveats in the documentation: https://pandas.pydata.org/pandas-docs/stable/user_guide/indexing.html#returning-a-view-versus-a-copy\n",
      "  cacher_needs_updating = self._check_is_chained_assignment_possible()\n"
     ]
    }
   ],
   "source": [
    "indice = df[df[\"Individuo\"] == 11][df[\"Atividade\"] == \"Walking\"][df[\"Timestamp\"] == 1867172313000].index[0]\n",
    "\n",
    "antes  = df.iloc[indice-1]\n",
    "depois = df.iloc[indice+1]\n",
    "\n",
    "df.iloc[indice][\"az\"] = (antes[\"az\"] + depois[\"az\"])/2"
   ]
  },
  {
   "attachments": {},
   "cell_type": "markdown",
   "metadata": {},
   "source": [
    "Algumas medições consecutivas não foram feitas de acordo com a frequência de 20Hz"
   ]
  },
  {
   "cell_type": "code",
   "execution_count": 57,
   "metadata": {},
   "outputs": [
    {
     "name": "stdout",
     "output_type": "stream",
     "text": [
      "[ 49105962326000  49106062271000  49106112167000 ... 131623371431000\n",
      " 131623411592000 131623491487000]\n",
      "[ 49106062271000  49106112167000  49106222305000 ... 131623411592000\n",
      " 131623491487000 131623531465000]\n",
      "[ 99945000  49896000 110138000 109985000 110016000 100006000 110077000\n",
      " 109924000 109986000 110016000 110015000 109986000 110016000 110016000\n",
      "  99945000 110046000 110016000 109985000 109986000  99945000]\n"
     ]
    }
   ],
   "source": [
    "a = df[\"Timestamp\"][:-1].to_numpy()\n",
    "d = df[\"Timestamp\"][1:].to_numpy()\n",
    "deltaT = (d-a)\n",
    "print(a)\n",
    "print(d)\n",
    "print(deltaT[:20])"
   ]
  },
  {
   "cell_type": "code",
   "execution_count": 72,
   "metadata": {},
   "outputs": [
    {
     "name": "stdout",
     "output_type": "stream",
     "text": [
      "9.08958696916812\n",
      "[10.00550303 20.04168671  9.07951842  9.09214893  9.08958697  9.99940004\n",
      "  9.08454991  9.09719443  9.09206626  9.08958697  9.08966959  9.09206626\n",
      "  9.08958697  9.08958697 10.00550303  9.08710903  9.08958697  9.09214893\n",
      "  9.09206626 10.00550303]\n"
     ]
    }
   ],
   "source": [
    "print(1_000_000_000 / 110016000)\n",
    "freq = 1_000_000_000 / (deltaT+1e-6)\n",
    "print(freq[:20])"
   ]
  },
  {
   "cell_type": "code",
   "execution_count": 88,
   "metadata": {},
   "outputs": [
    {
     "data": {
      "image/png": "[encoded data removed]",
      "text/plain": [
       "<Figure size 1080x432 with 1 Axes>"
      ]
     },
     "metadata": {
      "needs_background": "light"
     },
     "output_type": "display_data"
    }
   ],
   "source": [
    "plt.figure(figsize=(15,6))\n",
    "plt.hist(freq[freq < 0.5*1e15],bins = 100)\n",
    "plt.xlabel(\"Hz\", fontsize=20)\n",
    "plt.ylabel(\"qtd medições consecutivas\", fontsize=20)\n",
    "plt.show()"
   ]
  },
  {
   "cell_type": "code",
   "execution_count": 89,
   "metadata": {},
   "outputs": [],
   "source": [
    "df.to_csv(\"D:\\Machine Learning\\desafio-valorian\\dataset\\dataset.csv\")"
   ]
  }
 ],
 "metadata": {
  "kernelspec": {
   "display_name": "Python 3",
   "language": "python",
   "name": "python3"
  },
  "language_info": {
   "codemirror_mode": {
    "name": "ipython",
    "version": 3
   },
   "file_extension": ".py",
   "mimetype": "text/x-python",
   "name": "python",
   "nbconvert_exporter": "python",
   "pygments_lexer": "ipython3",
   "version": "3.9.7"
  },
  "orig_nbformat": 4
 },
 "nbformat": 4,
 "nbformat_minor": 2
}
